{
 "cells": [
  {
   "cell_type": "code",
   "execution_count": 1,
   "id": "d40bcefc-7424-4454-be35-a863eff59488",
   "metadata": {},
   "outputs": [],
   "source": [
    "from __future__ import (absolute_import, division, print_function,\n",
    "                        unicode_literals)\n",
    "\n",
    "import datetime  # For datetime objects\n",
    "import os.path  # To manage paths\n",
    "import sys  # To find out the script name (in argv[0])\n",
    "import matplotlib.pyplot as plt\n",
    "\n",
    "# Import the backtrader platform\n",
    "import backtrader as bt"
   ]
  },
  {
   "cell_type": "markdown",
   "id": "ae89ce83-bac3-43d6-95ff-aa3cbdcf490b",
   "metadata": {},
   "source": [
    "# 创建celebro"
   ]
  },
  {
   "cell_type": "code",
   "execution_count": 3,
   "id": "925beda8-b25d-4e91-9b01-96c5d5194061",
   "metadata": {},
   "outputs": [],
   "source": [
    "# Create a cerebro entity\n",
    "cerebro = bt.Cerebro()"
   ]
  },
  {
   "cell_type": "markdown",
   "id": "62891d33-a024-4fbc-8d3b-d36734dbfe02",
   "metadata": {},
   "source": [
    "# 编写交易策略"
   ]
  },
  {
   "cell_type": "code",
   "execution_count": 5,
   "id": "96e53b96-856c-4f72-9538-ce2d5816f1b7",
   "metadata": {},
   "outputs": [
    {
     "data": {
      "text/plain": [
       "0"
      ]
     },
     "execution_count": 5,
     "metadata": {},
     "output_type": "execute_result"
    }
   ],
   "source": [
    "from strategies import MACDStrategy\n",
    "\n",
    "# Create a Stratey\n",
    "TestStrategy = MACDStrategy\n",
    "\n",
    "# Add a strategy\n",
    "cerebro.addstrategy(TestStrategy)"
   ]
  },
  {
   "cell_type": "markdown",
   "id": "6d168bf6-7b1f-4355-bbc2-3e0ded77ccbc",
   "metadata": {},
   "source": [
    "# 导入回测数据"
   ]
  },
  {
   "cell_type": "code",
   "execution_count": 7,
   "id": "6be2cabc-3501-4928-aa5e-76ba52a6d4c1",
   "metadata": {
    "editable": true,
    "slideshow": {
     "slide_type": ""
    },
    "tags": []
   },
   "outputs": [],
   "source": [
    "# get data from AKShare\n",
    "import akshare as ak\n",
    "import pandas as pd\n",
    "\n",
    "def get_data_from_akshare(symbol=\"QQQ\", adjust=\"qfq\"):\n",
    "    data = ak.stock_us_daily(symbol=symbol, adjust=adjust).iloc[:,:7]\n",
    "    # 把 date 作为日期索引，以符合 Backtrader 的要求\n",
    "    data.index = pd.to_datetime(data['date'])\n",
    "    return data"
   ]
  },
  {
   "cell_type": "code",
   "execution_count": 8,
   "id": "b4c63757-0599-4a0d-81d4-e7ef8ba17bd9",
   "metadata": {
    "scrolled": true
   },
   "outputs": [
    {
     "data": {
      "text/plain": [
       "<backtrader.feeds.pandafeed.PandasData at 0x1ccffe1bc40>"
      ]
     },
     "execution_count": 8,
     "metadata": {},
     "output_type": "execute_result"
    }
   ],
   "source": [
    "# Create a Data Feed\n",
    "## load daily data from AKShare\n",
    "stock_id = 'QQQ'\n",
    "start_date = datetime.datetime(2024, 1, 1)  # 回测开始时间\n",
    "end_date = datetime.datetime(2024, 12, 31)  # 回测结束时间\n",
    "stock_qfq_df = get_data_from_akshare(symbol=stock_id)\n",
    "## load data\n",
    "data = bt.feeds.PandasData(dataname=stock_qfq_df, fromdate=start_date, \n",
    "                           todate=end_date, datetime='date', open='open', \n",
    "                           high='high',low='low', close='close', volume='volume')\n",
    "\n",
    "# Add the Data Feed to Cerebro\n",
    "cerebro.adddata(data)"
   ]
  },
  {
   "cell_type": "markdown",
   "id": "6bcb3ff6-b5ac-4114-bd5b-431686165e59",
   "metadata": {},
   "source": [
    "# 设置交易手续费"
   ]
  },
  {
   "cell_type": "code",
   "execution_count": 10,
   "id": "03ab8b2b-f88d-424d-9b71-1d051239d948",
   "metadata": {},
   "outputs": [],
   "source": [
    "# 设置佣金\n",
    "## IKBR pro用户，阶梯收费，忽略监管费用，只考虑佣金、交易所费用、清算费用\n",
    "class IBKRProCommission(bt.CommInfoBase):\n",
    "    params = (\n",
    "        ('stocklike', True),  # 股票模式\n",
    "        ('commtype', bt.CommInfoBase.COMM_PERC),  # 百分比佣金\n",
    "        ('percabs', False),  # commission以百分比形式表示\n",
    "    )\n",
    "\n",
    "    def _getcommission(self, size, price, pseudoexec):\n",
    "        # 根据交易量计算佣金\n",
    "        volume = abs(size) * price\n",
    "        if abs(size) <= 300000:\n",
    "            commission_rate = 0.0035  # 0.35%\n",
    "        elif abs(size) <= 3000000:\n",
    "            commission_rate = 0.0020  # 0.20%\n",
    "        elif abs(size) <= 20000000:\n",
    "            commission_rate = 0.0015  # 0.15%\n",
    "        elif abs(size) <= 100000000:\n",
    "            commission_rate = 0.0010  # 0.10%\n",
    "        else:\n",
    "            commission_rate = 0.0005  # 0.05%\n",
    "\n",
    "        commission = volume * commission_rate\n",
    "        # 最多收取交易金额的1%\n",
    "        commssion = min(commission, 0.001*volume)\n",
    "        # 最少收取0.35美元\n",
    "        commission = max(commission, 0.35)\n",
    "        return commission"
   ]
  },
  {
   "cell_type": "code",
   "execution_count": 11,
   "id": "99238bbf-e5c6-4aca-a081-0281b42e5a85",
   "metadata": {},
   "outputs": [],
   "source": [
    "# 实例化自定义佣金类\n",
    "ibkr_commission = IBKRProCommission()\n",
    "# 添加到经纪商\n",
    "cerebro.broker.addcommissioninfo(ibkr_commission, name='IBKRPro')"
   ]
  },
  {
   "cell_type": "markdown",
   "id": "6acda5f9-5246-489f-9f3f-f773efccbc49",
   "metadata": {},
   "source": [
    "# 添加评测指标"
   ]
  },
  {
   "cell_type": "code",
   "execution_count": 13,
   "id": "3b5aa36d-f1be-4984-bf7d-1cf3edaeb722",
   "metadata": {},
   "outputs": [],
   "source": [
    "# 添加分析指标\n",
    "# 返回年初至年末的年度收益率\n",
    "cerebro.addanalyzer(bt.analyzers.AnnualReturn, _name='_AnnualReturn')\n",
    "# 计算最大回撤相关指标\n",
    "cerebro.addanalyzer(bt.analyzers.DrawDown, _name='_DrawDown')\n",
    "# 计算年化收益：日度收益\n",
    "cerebro.addanalyzer(bt.analyzers.Returns, _name='_Returns', tann=252)\n",
    "# 计算年化夏普比率：日度收益\n",
    "cerebro.addanalyzer(bt.analyzers.SharpeRatio, _name='_SharpeRatio', timeframe=bt.TimeFrame.Days, annualize=True, riskfreerate=0) # 计算夏普比率\n",
    "cerebro.addanalyzer(bt.analyzers.SharpeRatio_A, _name='_SharpeRatio_A')\n",
    "# 返回收益率时序\n",
    "cerebro.addanalyzer(bt.analyzers.TimeReturn, _name='_TimeReturn')"
   ]
  },
  {
   "cell_type": "markdown",
   "id": "a1cb3977-1408-4e3e-bae5-659d6b635b04",
   "metadata": {},
   "source": [
    "# 开始回测"
   ]
  },
  {
   "cell_type": "code",
   "execution_count": 15,
   "id": "1137adea-d1b8-49a0-a19e-aa5cfa8aec64",
   "metadata": {},
   "outputs": [
    {
     "name": "stdout",
     "output_type": "stream",
     "text": [
      "Starting Portfolio Value: 1000.00\n"
     ]
    },
    {
     "ename": "AttributeError",
     "evalue": "module 'backtrader.indicators' has no attribute 'MACDSignal'",
     "output_type": "error",
     "traceback": [
      "\u001b[1;31m---------------------------------------------------------------------------\u001b[0m",
      "\u001b[1;31mAttributeError\u001b[0m                            Traceback (most recent call last)",
      "Cell \u001b[1;32mIn[15], line 6\u001b[0m\n\u001b[0;32m      4\u001b[0m \u001b[38;5;28mprint\u001b[39m(\u001b[38;5;124m'\u001b[39m\u001b[38;5;124mStarting Portfolio Value: \u001b[39m\u001b[38;5;132;01m%.2f\u001b[39;00m\u001b[38;5;124m'\u001b[39m \u001b[38;5;241m%\u001b[39m cerebro\u001b[38;5;241m.\u001b[39mbroker\u001b[38;5;241m.\u001b[39mgetvalue())\n\u001b[0;32m      5\u001b[0m \u001b[38;5;66;03m# Run over everything\u001b[39;00m\n\u001b[1;32m----> 6\u001b[0m result \u001b[38;5;241m=\u001b[39m \u001b[43mcerebro\u001b[49m\u001b[38;5;241;43m.\u001b[39;49m\u001b[43mrun\u001b[49m\u001b[43m(\u001b[49m\u001b[43m)\u001b[49m\n\u001b[0;32m      7\u001b[0m \u001b[38;5;66;03m# Print out the final result\u001b[39;00m\n\u001b[0;32m      8\u001b[0m \u001b[38;5;28mprint\u001b[39m(\u001b[38;5;124m'\u001b[39m\u001b[38;5;124mFinal Portfolio Value: \u001b[39m\u001b[38;5;132;01m%.2f\u001b[39;00m\u001b[38;5;124m'\u001b[39m \u001b[38;5;241m%\u001b[39m cerebro\u001b[38;5;241m.\u001b[39mbroker\u001b[38;5;241m.\u001b[39mgetvalue())\n",
      "File \u001b[1;32m~\\.conda\\envs\\bt\\lib\\site-packages\\backtrader\\cerebro.py:1132\u001b[0m, in \u001b[0;36mCerebro.run\u001b[1;34m(self, **kwargs)\u001b[0m\n\u001b[0;32m   1128\u001b[0m \u001b[38;5;28;01mif\u001b[39;00m \u001b[38;5;129;01mnot\u001b[39;00m \u001b[38;5;28mself\u001b[39m\u001b[38;5;241m.\u001b[39m_dooptimize \u001b[38;5;129;01mor\u001b[39;00m \u001b[38;5;28mself\u001b[39m\u001b[38;5;241m.\u001b[39mp\u001b[38;5;241m.\u001b[39mmaxcpus \u001b[38;5;241m==\u001b[39m \u001b[38;5;241m1\u001b[39m:\n\u001b[0;32m   1129\u001b[0m     \u001b[38;5;66;03m# If no optimmization is wished ... or 1 core is to be used\u001b[39;00m\n\u001b[0;32m   1130\u001b[0m     \u001b[38;5;66;03m# let's skip process \"spawning\"\u001b[39;00m\n\u001b[0;32m   1131\u001b[0m     \u001b[38;5;28;01mfor\u001b[39;00m iterstrat \u001b[38;5;129;01min\u001b[39;00m iterstrats:\n\u001b[1;32m-> 1132\u001b[0m         runstrat \u001b[38;5;241m=\u001b[39m \u001b[38;5;28;43mself\u001b[39;49m\u001b[38;5;241;43m.\u001b[39;49m\u001b[43mrunstrategies\u001b[49m\u001b[43m(\u001b[49m\u001b[43miterstrat\u001b[49m\u001b[43m)\u001b[49m\n\u001b[0;32m   1133\u001b[0m         \u001b[38;5;28mself\u001b[39m\u001b[38;5;241m.\u001b[39mrunstrats\u001b[38;5;241m.\u001b[39mappend(runstrat)\n\u001b[0;32m   1134\u001b[0m         \u001b[38;5;28;01mif\u001b[39;00m \u001b[38;5;28mself\u001b[39m\u001b[38;5;241m.\u001b[39m_dooptimize:\n",
      "File \u001b[1;32m~\\.conda\\envs\\bt\\lib\\site-packages\\backtrader\\cerebro.py:1222\u001b[0m, in \u001b[0;36mCerebro.runstrategies\u001b[1;34m(self, iterstrat, predata)\u001b[0m\n\u001b[0;32m   1220\u001b[0m sargs \u001b[38;5;241m=\u001b[39m \u001b[38;5;28mself\u001b[39m\u001b[38;5;241m.\u001b[39mdatas \u001b[38;5;241m+\u001b[39m \u001b[38;5;28mlist\u001b[39m(sargs)\n\u001b[0;32m   1221\u001b[0m \u001b[38;5;28;01mtry\u001b[39;00m:\n\u001b[1;32m-> 1222\u001b[0m     strat \u001b[38;5;241m=\u001b[39m stratcls(\u001b[38;5;241m*\u001b[39msargs, \u001b[38;5;241m*\u001b[39m\u001b[38;5;241m*\u001b[39mskwargs)\n\u001b[0;32m   1223\u001b[0m \u001b[38;5;28;01mexcept\u001b[39;00m bt\u001b[38;5;241m.\u001b[39merrors\u001b[38;5;241m.\u001b[39mStrategySkipError:\n\u001b[0;32m   1224\u001b[0m     \u001b[38;5;28;01mcontinue\u001b[39;00m  \u001b[38;5;66;03m# do not add strategy to the mix\u001b[39;00m\n",
      "File \u001b[1;32m~\\.conda\\envs\\bt\\lib\\site-packages\\backtrader\\metabase.py:88\u001b[0m, in \u001b[0;36mMetaBase.__call__\u001b[1;34m(cls, *args, **kwargs)\u001b[0m\n\u001b[0;32m     86\u001b[0m _obj, args, kwargs \u001b[38;5;241m=\u001b[39m \u001b[38;5;28mcls\u001b[39m\u001b[38;5;241m.\u001b[39mdonew(\u001b[38;5;241m*\u001b[39margs, \u001b[38;5;241m*\u001b[39m\u001b[38;5;241m*\u001b[39mkwargs)\n\u001b[0;32m     87\u001b[0m _obj, args, kwargs \u001b[38;5;241m=\u001b[39m \u001b[38;5;28mcls\u001b[39m\u001b[38;5;241m.\u001b[39mdopreinit(_obj, \u001b[38;5;241m*\u001b[39margs, \u001b[38;5;241m*\u001b[39m\u001b[38;5;241m*\u001b[39mkwargs)\n\u001b[1;32m---> 88\u001b[0m _obj, args, kwargs \u001b[38;5;241m=\u001b[39m \u001b[38;5;28mcls\u001b[39m\u001b[38;5;241m.\u001b[39mdoinit(_obj, \u001b[38;5;241m*\u001b[39margs, \u001b[38;5;241m*\u001b[39m\u001b[38;5;241m*\u001b[39mkwargs)\n\u001b[0;32m     89\u001b[0m _obj, args, kwargs \u001b[38;5;241m=\u001b[39m \u001b[38;5;28mcls\u001b[39m\u001b[38;5;241m.\u001b[39mdopostinit(_obj, \u001b[38;5;241m*\u001b[39margs, \u001b[38;5;241m*\u001b[39m\u001b[38;5;241m*\u001b[39mkwargs)\n\u001b[0;32m     90\u001b[0m \u001b[38;5;28;01mreturn\u001b[39;00m _obj\n",
      "File \u001b[1;32m~\\.conda\\envs\\bt\\lib\\site-packages\\backtrader\\metabase.py:78\u001b[0m, in \u001b[0;36mMetaBase.doinit\u001b[1;34m(cls, _obj, *args, **kwargs)\u001b[0m\n\u001b[0;32m     77\u001b[0m \u001b[38;5;28;01mdef\u001b[39;00m\u001b[38;5;250m \u001b[39m\u001b[38;5;21mdoinit\u001b[39m(\u001b[38;5;28mcls\u001b[39m, _obj, \u001b[38;5;241m*\u001b[39margs, \u001b[38;5;241m*\u001b[39m\u001b[38;5;241m*\u001b[39mkwargs):\n\u001b[1;32m---> 78\u001b[0m     _obj\u001b[38;5;241m.\u001b[39m\u001b[38;5;21m__init__\u001b[39m(\u001b[38;5;241m*\u001b[39margs, \u001b[38;5;241m*\u001b[39m\u001b[38;5;241m*\u001b[39mkwargs)\n\u001b[0;32m     79\u001b[0m     \u001b[38;5;28;01mreturn\u001b[39;00m _obj, args, kwargs\n",
      "File \u001b[1;32mE:\\code\\quant_bt\\strategies\\macd.py:7\u001b[0m, in \u001b[0;36mMACDStrategy.__init__\u001b[1;34m(self)\u001b[0m\n\u001b[0;32m      4\u001b[0m \u001b[38;5;28;01mdef\u001b[39;00m\u001b[38;5;250m \u001b[39m\u001b[38;5;21m__init__\u001b[39m(\u001b[38;5;28mself\u001b[39m):\n\u001b[0;32m      5\u001b[0m     \u001b[38;5;66;03m# 初始化MACD指标\u001b[39;00m\n\u001b[0;32m      6\u001b[0m     \u001b[38;5;28mself\u001b[39m\u001b[38;5;241m.\u001b[39mmacd \u001b[38;5;241m=\u001b[39m bt\u001b[38;5;241m.\u001b[39mindicators\u001b[38;5;241m.\u001b[39mMACD(\u001b[38;5;28mself\u001b[39m\u001b[38;5;241m.\u001b[39mdata\u001b[38;5;241m.\u001b[39mclose)\n\u001b[1;32m----> 7\u001b[0m     \u001b[38;5;28mself\u001b[39m\u001b[38;5;241m.\u001b[39msignal \u001b[38;5;241m=\u001b[39m \u001b[43mbt\u001b[49m\u001b[38;5;241;43m.\u001b[39;49m\u001b[43mindicators\u001b[49m\u001b[38;5;241;43m.\u001b[39;49m\u001b[43mMACDSignal\u001b[49m(\u001b[38;5;28mself\u001b[39m\u001b[38;5;241m.\u001b[39mmacd)\n",
      "\u001b[1;31mAttributeError\u001b[0m: module 'backtrader.indicators' has no attribute 'MACDSignal'"
     ]
    }
   ],
   "source": [
    "# Set our desired cash start\n",
    "cerebro.broker.setcash(1000.0)\n",
    "# Print out the starting conditions\n",
    "print('Starting Portfolio Value: %.2f' % cerebro.broker.getvalue())\n",
    "# Run over everything\n",
    "result = cerebro.run()\n",
    "# Print out the final result\n",
    "print('Final Portfolio Value: %.2f' % cerebro.broker.getvalue())"
   ]
  },
  {
   "cell_type": "markdown",
   "id": "3caecbd4-39d2-4bca-84fc-6fa6fc19dfbf",
   "metadata": {},
   "source": [
    "# 策略评测及可视化"
   ]
  },
  {
   "cell_type": "code",
   "execution_count": null,
   "id": "8026dbb9-ade3-4f48-9c6b-77a05af921a6",
   "metadata": {},
   "outputs": [],
   "source": [
    "# 常用指标提取\n",
    "analyzer = {}\n",
    "# 提取年化收益\n",
    "analyzer['年化收益率（%）'] = result[0].analyzers._Returns.get_analysis()['rnorm100']\n",
    "# 提取最大回撤\n",
    "analyzer['最大回撤（%）'] = result[0].analyzers._DrawDown.get_analysis()['max']['drawdown'] * (-1)\n",
    "# 提取夏普比率\n",
    "analyzer['年化夏普比率'] = result[0].analyzers._SharpeRatio_A.get_analysis()['sharperatio']\n",
    "print(analyzer)\n",
    "\n",
    "# plt.clf()\n",
    "# %matplotlib inline\n",
    "# cerebro.plot(iplot=False)\n",
    "# plt.savefig('res.jpg')\n",
    "# plt.show()"
   ]
  }
 ],
 "metadata": {
  "kernelspec": {
   "display_name": "Python [conda env:.conda-bt]",
   "language": "python",
   "name": "conda-env-.conda-bt-py"
  },
  "language_info": {
   "codemirror_mode": {
    "name": "ipython",
    "version": 3
   },
   "file_extension": ".py",
   "mimetype": "text/x-python",
   "name": "python",
   "nbconvert_exporter": "python",
   "pygments_lexer": "ipython3",
   "version": "3.10.16"
  }
 },
 "nbformat": 4,
 "nbformat_minor": 5
}
